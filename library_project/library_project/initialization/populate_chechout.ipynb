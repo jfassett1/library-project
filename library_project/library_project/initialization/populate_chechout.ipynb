{
 "cells": [
  {
   "cell_type": "code",
   "execution_count": null,
   "metadata": {},
   "outputs": [],
   "source": [
    "import warnings\n",
    "import pandas as pd\n",
    "import numpy as np\n",
    "import pathlib\n",
    "import os\n",
    "from faker import Faker"
   ]
  },
  {
   "cell_type": "code",
   "execution_count": null,
   "metadata": {},
   "outputs": [],
   "source": [
    "fake = Faker()\n",
    "n_patrons = 1000\n",
    "print(f\"Building {n_patrons} patron accounts\")\n",
    "values = tuple(\n",
    "    zip([fake.name() for _ in range(n_patrons)],\n",
    "        [fake.address() for _ in range(n_patrons)],\n",
    "        [fake.unique.email() for _ in range(n_patrons)]))\n",
    "\n",
    "## CHAT GPT SUGGESTED ##\n",
    "\n",
    "# Function to simulate book selection\n",
    "def simulate_book_selection(persons, library):\n",
    "    selections = []\n",
    "    for person in persons:\n",
    "        if np.random.rand() < person['probability_of_reading']:\n",
    "            selected_book = np.random.choice(library['BookID'], p=person['weights'])\n",
    "            selections.append((person['person_id'], selected_book))\n",
    "    return selections\n",
    "\n",
    "# Generate a list of book genres\n",
    "book_genres = ['Fiction', 'Mystery', 'Sci-Fi', 'Romance', 'Non-Fiction', 'Fantasy']\n",
    "\n",
    "# Create a library of books with genres\n",
    "num_books = 1000\n",
    "library = pd.DataFrame({\n",
    "    'BookID': np.arange(1, num_books + 1),\n",
    "    'Genre': np.random.choice(book_genres, size=num_books)\n",
    "})\n",
    "\n",
    "# Create a list of persons with assigned genres and weights\n",
    "num_persons = 100\n",
    "persons = []\n",
    "for person_id in range(1, num_persons + 1):\n",
    "    assigned_genres = np.random.choice(book_genres, size=np.random.randint(1, len(book_genres) + 1), replace=False)\n",
    "    weights = np.random.rand(len(assigned_genres))\n",
    "    weights /= weights.sum()  # Normalize weights to make them probabilities\n",
    "    probability_of_reading = 0.01  # Very low probability of reading for each person\n",
    "    persons.append({\n",
    "        'person_id': person_id,\n",
    "        'assigned_genres': assigned_genres,\n",
    "        'weights': weights,\n",
    "        'probability_of_reading': probability_of_reading\n",
    "    })\n",
    "\n",
    "# Simulate book selections for 100,000 iterations\n",
    "num_iterations = 100000\n",
    "selected_books = simulate_book_selection(persons, library)\n",
    "\n",
    "# Display a sample of the selected books\n",
    "print(\"Sample of selected books:\")\n",
    "print(selected_books[:10])\n"
   ]
  }
 ],
 "metadata": {
  "kernelspec": {
   "display_name": ".venv",
   "language": "python",
   "name": "python3"
  },
  "language_info": {
   "name": "python",
   "version": "3.11.4"
  }
 },
 "nbformat": 4,
 "nbformat_minor": 2
}
