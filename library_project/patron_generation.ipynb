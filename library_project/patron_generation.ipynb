{
 "cells": [
  {
   "cell_type": "code",
   "execution_count": 19,
   "metadata": {},
   "outputs": [
    {
     "name": "stdout",
     "output_type": "stream",
     "text": [
      "(('Emlyn', 'Larkin', 'elarkin1', 'elarkin1@hotmail.com'), ('Nicola', 'Port', 'nport1', 'nport1@yahoo.com'), ('Heywood', 'Holliday', 'hholliday1', 'hholliday1@outlook.com'), ('Esma', 'Goodchild', 'egoodchild1', 'egoodchild1@mail.com'), ('Sherilyn', 'Mairs', 'smairs1', 'smairs1@icloud.com'), ('Rolph', 'Quigley', 'rquigley1', 'rquigley1@gmail.com'), ('Isador', 'Pirnwell', 'ipirnwell1', 'ipirnwell1@gmail.com'), ('Avram', 'Hainsworth', 'ahainsworth1', 'ahainsworth1@gmail.com'), ('Rochelle', 'Parsloe', 'rparsloe1', 'rparsloe1@yahoo.com'), ('Sidonia', 'Lovatt', 'slovatt1', 'slovatt1@aol.com'), ('Mada', 'Crew', 'mcrew1', 'mcrew1@icloud.com'), ('Barbara-Anne', 'Winsley', 'bwinsley1', 'bwinsley1@protonmail.com'), ('Norri', 'Morfield', 'nmorfield1', 'nmorfield1@gmail.com'), ('Shara', 'Gwin', 'sgwin1', 'sgwin1@yahoo.com'), ('Dorcas', 'Uphill', 'duphill1', 'duphill1@aol.com'), ('Anastasie', 'Harwood', 'aharwood1', 'aharwood1@yahoo.com'), ('Kellen', 'Redman', 'kredman1', 'kredman1@gmail.com'), ('Georgeanne', 'Lanchester', 'glanchester1', 'glanchester1@icloud.com'), ('Danni', 'Hayter', 'dhayter1', 'dhayter1@yahoo.com'), ('Tori', 'Furness', 'tfurness1', 'tfurness1@icloud.com'), ('Karly', 'Stewert', 'kstewert1', 'kstewert1@mail.com'), ('Lianna', 'Prophet', 'lprophet1', 'lprophet1@gmail.com'), ('Blinny', 'Batchelor', 'bbatchelor1', 'bbatchelor1@protonmail.com'), ('Huey', 'Boulter', 'hboulter1', 'hboulter1@yahoo.com'), ('Stepha', 'Hopley', 'shopley1', 'shopley1@protonmail.com'), ('Udell', 'Wager', 'uwager1', 'uwager1@hotmail.com'), ('Hermon', 'Bewen', 'hbewen1', 'hbewen1@gmail.com'), ('Elvera', 'Flemming', 'eflemming1', 'eflemming1@hotmail.com'), ('Didi', 'Wyles', 'dwyles1', 'dwyles1@protonmail.com'), ('Delcine', 'Quinell', 'dquinell1', 'dquinell1@protonmail.com'), ('Anneliese', 'Gorton', 'agorton1', 'agorton1@aol.com'), ('Blinny', 'Hawkridge', 'bhawkridge1', 'bhawkridge1@hotmail.com'), ('Garrett', 'Faith', 'gfaith1', 'gfaith1@protonmail.com'), ('Klara', 'Hulbert', 'khulbert1', 'khulbert1@icloud.com'), ('Ebenezer', 'Cardwell', 'ecardwell1', 'ecardwell1@aol.com'), ('Rosemary', 'Jopson', 'rjopson1', 'rjopson1@gmail.com'), ('Candi', 'Evatt', 'cevatt1', 'cevatt1@protonmail.com'), ('Calida', 'Tetchner', 'ctetchner1', 'ctetchner1@hotmail.com'), ('Valentia', 'Clearr', 'vclearr1', 'vclearr1@protonmail.com'), ('Porter', 'Standill', 'pstandill1', 'pstandill1@icloud.com'), ('Jody', 'Kempster', 'jkempster1', 'jkempster1@gmail.com'), ('Revkah', 'Luker', 'rluker1', 'rluker1@hotmail.com'), ('Marcello', 'Bickerton', 'mbickerton1', 'mbickerton1@yahoo.com'), ('Valli', 'Cartermole', 'vcartermole1', 'vcartermole1@outlook.com'), ('Britta', 'Lettsom', 'blettsom1', 'blettsom1@outlook.com'), ('Ina', 'McLaurin', 'imclaurin1', 'imclaurin1@mail.com'), ('Emyle', 'Mullan', 'emullan1', 'emullan1@mail.com'), ('Louisette', 'Trickett', 'ltrickett1', 'ltrickett1@yahoo.com'), ('Engelbert', 'Spittlehouse', 'espittlehouse1', 'espittlehouse1@mail.com'), ('Pearla', 'Bramwood', 'pbramwood1', 'pbramwood1@mail.com'), ('Erminie', 'Richdale', 'erichdale1', 'erichdale1@outlook.com'), ('Sherie', 'Herding', 'sherding1', 'sherding1@aol.com'), ('Leonard', 'Colbourn', 'lcolbourn1', 'lcolbourn1@hotmail.com'), ('Peggy', 'Headley', 'pheadley1', 'pheadley1@yahoo.com'), ('Arianne', 'Briscall', 'abriscall1', 'abriscall1@protonmail.com'), ('Forrester', 'Creak', 'fcreak1', 'fcreak1@protonmail.com'), ('Casey', 'Worley', 'cworley1', 'cworley1@aol.com'), ('Ilana', 'Conlan', 'iconlan1', 'iconlan1@outlook.com'), ('Yvonne', 'Seamans', 'yseamans1', 'yseamans1@gmail.com'), ('Alisun', 'Charlesworth', 'acharlesworth1', 'acharlesworth1@gmail.com'), ('Cacilie', 'Ashall', 'cashall1', 'cashall1@protonmail.com'), ('Langston', 'Seeney', 'lseeney1', 'lseeney1@hotmail.com'), ('Rey', 'Newis', 'rnewis1', 'rnewis1@mail.com'), ('Edin', 'Swainland', 'eswainland1', 'eswainland1@gmail.com'), ('Cynthea', 'Handricks', 'chandricks1', 'chandricks1@yahoo.com'), ('Moishe', 'Pendrigh', 'mpendrigh1', 'mpendrigh1@protonmail.com'), ('Brynne', 'Gullick', 'bgullick1', 'bgullick1@outlook.com'), ('Mildrid', 'Prance', 'mprance1', 'mprance1@yahoo.com'), ('Vittoria', 'Whiteside', 'vwhiteside1', 'vwhiteside1@gmail.com'), ('Prunella', 'Grapes', 'pgrapes1', 'pgrapes1@gmail.com'), ('Devi', 'Rundle', 'drundle1', 'drundle1@icloud.com'), ('Robert', 'Angrave', 'rangrave1', 'rangrave1@protonmail.com'), ('Alissa', 'Spence', 'aspence1', 'aspence1@hotmail.com'), ('Agatha', 'Mattley', 'amattley1', 'amattley1@icloud.com'), ('Washington', 'Mayos', 'wmayos1', 'wmayos1@aol.com'), ('Dorine', 'Dzuibka', 'ddzuibka1', 'ddzuibka1@gmail.com'), ('Gwendolin', 'Clearr', 'gclearr1', 'gclearr1@outlook.com'), ('Ajai', 'Lloyd', 'alloyd1', 'alloyd1@hotmail.com'), ('Francis', 'Scholfield', 'fscholfield1', 'fscholfield1@gmail.com'), ('Alic', 'Willington', 'awillington1', 'awillington1@yahoo.com'), ('Oralie', 'Hindell', 'ohindell1', 'ohindell1@gmail.com'), ('Joyous', 'Langley', 'jlangley1', 'jlangley1@icloud.com'), ('Elbert', 'Bartley', 'ebartley1', 'ebartley1@protonmail.com'), ('Dwane', 'Flockart', 'dflockart1', 'dflockart1@yahoo.com'), ('Van', 'Laurence', 'vlaurence1', 'vlaurence1@protonmail.com'), ('Lindsay', 'Towler', 'ltowler1', 'ltowler1@gmail.com'), ('Aidan', 'Munn', 'amunn1', 'amunn1@hotmail.com'), ('Michel', 'Higlett', 'mhiglett1', 'mhiglett1@gmail.com'), ('Mallory', 'Shone', 'mshone1', 'mshone1@aol.com'), ('Armstrong', 'Lingley', 'alingley1', 'alingley1@mail.com'), ('Juliette', 'Gard', 'jgard1', 'jgard1@hotmail.com'), ('Gabbi', 'McQuire', 'gmcquire1', 'gmcquire1@yahoo.com'), ('Godiva', 'Lythe', 'glythe1', 'glythe1@outlook.com'), ('Westbrooke', 'Rowley', 'wrowley1', 'wrowley1@yahoo.com'), ('Mala', 'Lussey', 'mlussey1', 'mlussey1@hotmail.com'), ('Abby', 'Looney', 'alooney1', 'alooney1@yahoo.com'), ('Sybilla', 'Wrinklow', 'swrinklow1', 'swrinklow1@aol.com'), ('Kaile', 'Allbrighton', 'kallbrighton1', 'kallbrighton1@mail.com'), ('Igor', 'Lipscombe', 'ilipscombe1', 'ilipscombe1@outlook.com'), ('Stig', 'Rhind', 'srhind1', 'srhind1@protonmail.com'))\n"
     ]
    }
   ],
   "source": [
    "import pandas as pd\n",
    "import random as rand\n",
    "\n",
    "surnames = pd.read_csv(\"data/engwales_surnames.csv\",encoding='unicode_escape')[\"Name\"]\n",
    "# first = pd.read_csv(\"data/male.txt\")\n",
    "firstnames = open(\"data/male.txt\").read().split()\n",
    "firstnames += open(\"data/female.txt\").read().split()\n",
    "firstnames\n",
    "\n",
    "def build_names(first:list,last:list,n):\n",
    "    lst = []\n",
    "    for _ in range(n):\n",
    "        f_int = rand.randrange(len(first))\n",
    "        l_int = rand.randrange(len(last))\n",
    "        lst.append((first[f_int],last[l_int]))\n",
    "    return lst\n",
    "\n",
    "def build_ids(names):\n",
    "    emails = []\n",
    "    for i in range(len(names)):\n",
    "        flag = 0\n",
    "        first,last = names[i]\n",
    "        iterator = 1\n",
    "        while flag == 0:\n",
    "            email = f\"{first[0]}{last}{iterator}\".lower().replace(\" \",\"\")\n",
    "            if email in emails:\n",
    "                iterator +=1\n",
    "            else:\n",
    "                emails.append(email)\n",
    "                break\n",
    "    return emails\n",
    "emails = []\n",
    "\n",
    "def mainbuild(n=0):\n",
    "    namelist = build_names(firstnames,surnames,n)\n",
    "    ids = build_ids(namelist)\n",
    "    first = [name[0] for name in namelist]\n",
    "    last = [name[1] for name in namelist]\n",
    "    endings = [\"@gmail.com\",\"@hotmail.com\",\n",
    "    \"@gmail.com\",\n",
    "    \"@yahoo.com\",\n",
    "    \"@outlook.com\",\n",
    "    \"@mail.com\",\n",
    "    \"@icloud.com\",\n",
    "    \"@aol.com\",\n",
    "    \"@protonmail.com\"]\n",
    "\n",
    "    emails = [id + endings[rand.randint(0,len(endings)-1)] for id in ids]\n",
    "    return pd.DataFrame({\"First\":first,\n",
    "                         \"Last\":last,\n",
    "                         \"ID\":ids,\n",
    "                         \"Emails\":emails})\n",
    "df = mainbuild(100)\n",
    "\n",
    "# for i in df.itertuples():\n",
    "#     tuples = tuple(i)[1:]\n",
    "#     print(str())\n",
    "    \n",
    "print(tuple(map(lambda x: tuple(x)[1:], df.itertuples())))\n",
    "\n",
    "\n",
    "\n",
    "\n"
   ]
  },
  {
   "cell_type": "code",
   "execution_count": 168,
   "metadata": {},
   "outputs": [
    {
     "name": "stdout",
     "output_type": "stream",
     "text": [
      "4.49\n",
      "4.63\n",
      "3.62\n",
      "4.44\n",
      "4.02\n"
     ]
    }
   ],
   "source": [
    "\n",
    "for _,row in books.head().iterrows():\n",
    "    Count1 = row[\"ratings_1\"]\n",
    "    Count2 = row[\"ratings_2\"]\n",
    "    Count3 = row[\"ratings_3\"]\n",
    "    Count4 = row[\"ratings_4\"]\n",
    "    Count5 = row[\"ratings_5\"]\n",
    "    total = row[\"ratings_count\"]\n",
    "    SumWeightedRatings = (1 * Count1) + (2 * Count2) + (3 * Count3) + (4 * Count4) + (5 * Count5)\n",
    "    print(round(SumWeightedRatings/total,2))"
   ]
  }
 ],
 "metadata": {
  "kernelspec": {
   "display_name": "Python 3",
   "language": "python",
   "name": "python3"
  },
  "language_info": {
   "codemirror_mode": {
    "name": "ipython",
    "version": 3
   },
   "file_extension": ".py",
   "mimetype": "text/x-python",
   "name": "python",
   "nbconvert_exporter": "python",
   "pygments_lexer": "ipython3",
   "version": "3.11.5"
  }
 },
 "nbformat": 4,
 "nbformat_minor": 2
}
