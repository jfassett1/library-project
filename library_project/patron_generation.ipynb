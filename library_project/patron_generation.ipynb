{
 "cells": [
  {
   "cell_type": "code",
   "execution_count": 6,
   "metadata": {},
   "outputs": [
    {
     "name": "stdout",
     "output_type": "stream",
     "text": [
      "(('Kare Heathfield', 'kheathfield1', 'kheathfield1@outlook.com'), ('Giana Venning', 'gvenning1', 'gvenning1@outlook.com'), ('Bernhard Gammin', 'bgammin1', 'bgammin1@mail.com'), ('Denny Dunkley', 'ddunkley1', 'ddunkley1@icloud.com'), ('Emlynn Whitear', 'ewhitear1', 'ewhitear1@mail.com'), ('Odie Loney', 'oloney1', 'oloney1@protonmail.com'), ('Heidie Benbow', 'hbenbow1', 'hbenbow1@hotmail.com'), ('Carlene Gonselvas', 'cgonselvas1', 'cgonselvas1@hotmail.com'), ('Janela Garvan', 'jgarvan1', 'jgarvan1@protonmail.com'), ('Odille Huckins', 'ohuckins1', 'ohuckins1@mail.com'), ('Granville Bolus', 'gbolus1', 'gbolus1@protonmail.com'), ('Taffy Rayner', 'trayner1', 'trayner1@protonmail.com'), ('Roni Norcutt?', 'rnorcutt?1', 'rnorcutt?1@aol.com'), ('Kirbie Singer', 'ksinger1', 'ksinger1@gmail.com'), ('Marcus Molland', 'mmolland1', 'mmolland1@protonmail.com'), ('Robinette Curtler', 'rcurtler1', 'rcurtler1@icloud.com'), ('Deeanne Symes', 'dsymes1', 'dsymes1@hotmail.com'), ('Inna Loyns', 'iloyns1', 'iloyns1@mail.com'), ('Tarra Farron', 'tfarron1', 'tfarron1@aol.com'), ('Hewett Dinham', 'hdinham1', 'hdinham1@hotmail.com'), ('Ty Embu?', 'tembu?1', 'tembu?1@yahoo.com'), ('Agatha Lavis', 'alavis1', 'alavis1@outlook.com'), ('Terry Spiers', 'tspiers1', 'tspiers1@gmail.com'), ('Wallace Burdess', 'wburdess1', 'wburdess1@aol.com'), ('Vallie Hiddin', 'vhiddin1', 'vhiddin1@yahoo.com'), ('Fanni Walsgrove', 'fwalsgrove1', 'fwalsgrove1@outlook.com'), ('Merridie Alt', 'malt1', 'malt1@aol.com'), ('Greggory Broadist', 'gbroadist1', 'gbroadist1@gmail.com'), ('Celine Denston', 'cdenston1', 'cdenston1@mail.com'), ('Maury Hannon', 'mhannon1', 'mhannon1@hotmail.com'), ('Johan Weatherdon', 'jweatherdon1', 'jweatherdon1@outlook.com'), ('Berthe Filder', 'bfilder1', 'bfilder1@protonmail.com'), ('Ursula Sluggett', 'usluggett1', 'usluggett1@icloud.com'), ('Fletch Tooley', 'ftooley1', 'ftooley1@protonmail.com'), ('Fannie Argust', 'fargust1', 'fargust1@gmail.com'), ('Kimmie Chittenden', 'kchittenden1', 'kchittenden1@yahoo.com'), ('Starlene Cottle', 'scottle1', 'scottle1@mail.com'), ('Kerstin ONeill', 'koneill1', 'koneill1@mail.com'), ('Hiralal Bayford', 'hbayford1', 'hbayford1@gmail.com'), ('Marylee Ambrey', 'mambrey1', 'mambrey1@outlook.com'), ('Allen Mattravers', 'amattravers1', 'amattravers1@hotmail.com'), ('Pamela Rookley', 'prookley1', 'prookley1@gmail.com'), ('Alysa Westoby', 'awestoby1', 'awestoby1@hotmail.com'), ('Vinni Brennand', 'vbrennand1', 'vbrennand1@aol.com'), ('Jonell Smeeton', 'jsmeeton1', 'jsmeeton1@gmail.com'), ('Rudiger Wittleton', 'rwittleton1', 'rwittleton1@aol.com'), ('Patrizia Rushby', 'prushby1', 'prushby1@icloud.com'), ('Darla Brailey', 'dbrailey1', 'dbrailey1@aol.com'), ('Keri Denely', 'kdenely1', 'kdenely1@mail.com'), ('Thacher Laramy', 'tlaramy1', 'tlaramy1@hotmail.com'), ('Cherin Titmass', 'ctitmass1', 'ctitmass1@icloud.com'), ('Tanya Talbott', 'ttalbott1', 'ttalbott1@icloud.com'), ('Vance Botting', 'vbotting1', 'vbotting1@hotmail.com'), ('Desiree Sephton', 'dsephton1', 'dsephton1@gmail.com'), ('Wendall Longfoot', 'wlongfoot1', 'wlongfoot1@yahoo.com'), ('Ailene Roreson', 'aroreson1', 'aroreson1@aol.com'), ('Ned Colliver', 'ncolliver1', 'ncolliver1@hotmail.com'), ('Agneta Simmons', 'asimmons1', 'asimmons1@gmail.com'), ('Dallas Titilat?', 'dtitilat?1', 'dtitilat?1@icloud.com'), ('Marget Sparshott', 'msparshott1', 'msparshott1@hotmail.com'), ('Milissent Brackster', 'mbrackster1', 'mbrackster1@mail.com'), ('Jaymee Ray', 'jray1', 'jray1@yahoo.com'), ('Debora Hattersley', 'dhattersley1', 'dhattersley1@outlook.com'), ('Jeraldine McDermot', 'jmcdermot1', 'jmcdermot1@hotmail.com'), ('Coleen Clayburn', 'cclayburn1', 'cclayburn1@protonmail.com'), ('Thibaut Hogden', 'thogden1', 'thogden1@protonmail.com'), ('Shoshanna Cookson', 'scookson1', 'scookson1@icloud.com'), ('Werner McAllister', 'wmcallister1', 'wmcallister1@gmail.com'), ('Sosanna Fortune', 'sfortune1', 'sfortune1@aol.com'), ('Kenn Tame', 'ktame1', 'ktame1@outlook.com'), ('Mendel Solomons', 'msolomons1', 'msolomons1@yahoo.com'), ('Tedda Ranshaw', 'transhaw1', 'transhaw1@hotmail.com'), ('Talyah Gibbons', 'tgibbons1', 'tgibbons1@gmail.com'), ('Mildred Woollin', 'mwoollin1', 'mwoollin1@hotmail.com'), ('Kimbra Thurms', 'kthurms1', 'kthurms1@gmail.com'), ('Felicia Spicknett', 'fspicknett1', 'fspicknett1@mail.com'), ('Margy Bradfield', 'mbradfield1', 'mbradfield1@hotmail.com'), ('Shalne Slattry', 'sslattry1', 'sslattry1@mail.com'), ('Loren Monro', 'lmonro1', 'lmonro1@gmail.com'), ('Terry Hollingdrake', 'thollingdrake1', 'thollingdrake1@gmail.com'), ('Laraine Peddle', 'lpeddle1', 'lpeddle1@hotmail.com'), ('Kathlin Braidley', 'kbraidley1', 'kbraidley1@yahoo.com'), ('Martie Tratt', 'mtratt1', 'mtratt1@mail.com'), ('Chiquita Futter', 'cfutter1', 'cfutter1@yahoo.com'), ('Damara Helbern', 'dhelbern1', 'dhelbern1@icloud.com'), ('Noelani Culling', 'nculling1', 'nculling1@gmail.com'), ('Brigida Caklip', 'bcaklip1', 'bcaklip1@gmail.com'), ('Priscella Steadmans', 'psteadmans1', 'psteadmans1@mail.com'), ('Aleecia Coatman', 'acoatman1', 'acoatman1@gmail.com'), ('Heddi Niblett', 'hniblett1', 'hniblett1@aol.com'), ('Halimeda Jelf', 'hjelf1', 'hjelf1@gmail.com'), ('Hugh Arthur', 'harthur1', 'harthur1@gmail.com'), ('Emiline Swan', 'eswan1', 'eswan1@gmail.com'), ('Tildie Pearcy', 'tpearcy1', 'tpearcy1@gmail.com'), ('Mahmoud Percey', 'mpercey1', 'mpercey1@mail.com'), ('Caresse Colgan', 'ccolgan1', 'ccolgan1@aol.com'), ('Elnora Gaskill', 'egaskill1', 'egaskill1@gmail.com'), ('Clara Grainge', 'cgrainge1', 'cgrainge1@aol.com'), ('Jacquelin Smitheman', 'jsmitheman1', 'jsmitheman1@gmail.com'), ('Anja Bucklle', 'abucklle1', 'abucklle1@aol.com'))\n"
     ]
    }
   ],
   "source": [
    "import pandas as pd\n",
    "import random as rand\n",
    "\n",
    "surnames = pd.read_csv(\"data/engwales_surnames.csv\",encoding='unicode_escape')[\"Name\"]\n",
    "# first = pd.read_csv(\"data/male.txt\")\n",
    "firstnames = open(\"data/male.txt\").read().split()\n",
    "firstnames += open(\"data/female.txt\").read().split()\n",
    "firstnames\n",
    "\n",
    "def build_names(first:list,last:list,n):\n",
    "    lst = []\n",
    "    for _ in range(n):\n",
    "        f_int = rand.randrange(len(first))\n",
    "        l_int = rand.randrange(len(last))\n",
    "        lst.append((first[f_int],last[l_int]))\n",
    "    return lst\n",
    "\n",
    "def build_ids(names):\n",
    "    emails = []\n",
    "    for i in range(len(names)):\n",
    "        flag = 0\n",
    "        first,last = names[i]\n",
    "        iterator = 1\n",
    "        while flag == 0:\n",
    "            email = f\"{first[0]}{last}{iterator}\".lower().replace(\" \",\"\")\n",
    "            if email in emails:\n",
    "                iterator +=1\n",
    "            else:\n",
    "                emails.append(email)\n",
    "                break\n",
    "    return emails\n",
    "emails = []\n",
    "\n",
    "def mainbuild(n=0):\n",
    "    namelist = build_names(firstnames,surnames,n)\n",
    "    ids = build_ids(namelist)\n",
    "    # first = [name[0] for name in namelist]\n",
    "    # last = [name[1] for name in namelist]\n",
    "    new_names = []\n",
    "    for name in namelist:\n",
    "        new_names.append(f\"{name[0]} {name[1]}\")\n",
    "    endings = [\"@gmail.com\",\"@hotmail.com\",\n",
    "    \"@gmail.com\",\n",
    "    \"@yahoo.com\",\n",
    "    \"@outlook.com\",\n",
    "    \"@mail.com\",\n",
    "    \"@icloud.com\",\n",
    "    \"@aol.com\",\n",
    "    \"@protonmail.com\"]\n",
    "\n",
    "    emails = [id + endings[rand.randint(0,len(endings)-1)] for id in ids]\n",
    "    return pd.DataFrame({\"Names\":new_names,\n",
    "                         \"ID\":ids,\n",
    "                         \"Emails\":emails})\n",
    "df = mainbuild(100)\n",
    "\n",
    "# for i in df.itertuples():\n",
    "#     tuples = tuple(i)[1:]\n",
    "#     print(str())\n",
    "\n",
    "print(tuple(map(lambda x: tuple(x)[1:], df.itertuples())))\n",
    "\n",
    "\n",
    "\n",
    "\n"
   ]
  },
  {
   "cell_type": "code",
   "execution_count": 168,
   "metadata": {},
   "outputs": [
    {
     "name": "stdout",
     "output_type": "stream",
     "text": [
      "4.49\n",
      "4.63\n",
      "3.62\n",
      "4.44\n",
      "4.02\n"
     ]
    }
   ],
   "source": [
    "\n",
    "for _,row in books.head().iterrows():\n",
    "    Count1 = row[\"ratings_1\"]\n",
    "    Count2 = row[\"ratings_2\"]\n",
    "    Count3 = row[\"ratings_3\"]\n",
    "    Count4 = row[\"ratings_4\"]\n",
    "    Count5 = row[\"ratings_5\"]\n",
    "    total = row[\"ratings_count\"]\n",
    "    SumWeightedRatings = (1 * Count1) + (2 * Count2) + (3 * Count3) + (4 * Count4) + (5 * Count5)\n",
    "    print(round(SumWeightedRatings/total,2))"
   ]
  }
 ],
 "metadata": {
  "kernelspec": {
   "display_name": "Python 3",
   "language": "python",
   "name": "python3"
  },
  "language_info": {
   "codemirror_mode": {
    "name": "ipython",
    "version": 3
   },
   "file_extension": ".py",
   "mimetype": "text/x-python",
   "name": "python",
   "nbconvert_exporter": "python",
   "pygments_lexer": "ipython3",
   "version": "3.11.4"
  }
 },
 "nbformat": 4,
 "nbformat_minor": 2
}
